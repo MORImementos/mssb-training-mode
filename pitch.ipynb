{
 "cells": [
  {
   "cell_type": "code",
   "execution_count": 3,
   "id": "initial_id",
   "metadata": {
    "collapsed": true,
    "ExecuteTime": {
     "end_time": "2024-02-08T02:04:06.064618900Z",
     "start_time": "2024-02-08T02:04:05.901650500Z"
    }
   },
   "outputs": [
    {
     "name": "stdout",
     "output_type": "stream",
     "text": [
      "pygame 2.5.2 (SDL 2.28.3, Python 3.11.3)\n",
      "Hello from the pygame community. https://www.pygame.org/contribute.html\n"
     ]
    }
   ],
   "source": [
    "import dolphin_memory_engine as dme\n",
    "import memory_engine as me\n",
    "import sys\n",
    "import time\n",
    "import csv\n",
    "import os\n",
    "import random\n",
    "from addresses import *"
   ]
  },
  {
   "cell_type": "code",
   "outputs": [],
   "source": [
    "def append_data_to_csv(file_path, pitcher_id, input_list: list) -> None:\n",
    "    \"\"\"Writes data to csv file.\"\"\"\n",
    "    \n",
    "    # define header labels and check if file already exists\n",
    "    header = ['pitcher_id', 'curve_control_values']\n",
    "    file_exists = os.path.isfile(file_path) and os.path.getsize(file_path) > 0\n",
    "    \n",
    "    with open(file_path, 'a', newline='') as csvfile:\n",
    "        writer = csv.writer(csvfile)\n",
    "        # if file doesn't exist, the header will need to be written\n",
    "        if not file_exists:\n",
    "            writer.writerow(header)\n",
    "        \n",
    "        # list of values is passed as a string joined by '+'. Makes transfer easier, and data is re-formatted when loaded\n",
    "        curve_control_values_str = '+'.join(map(str, input_list))\n",
    "        row = [pitcher_id, curve_control_values_str]\n",
    "        writer.writerow(row)"
   ],
   "metadata": {
    "collapsed": false,
    "ExecuteTime": {
     "end_time": "2024-02-08T02:04:07.029573200Z",
     "start_time": "2024-02-08T02:04:07.015761100Z"
    }
   },
   "id": "c7a885029246ab5f",
   "execution_count": 4
  },
  {
   "cell_type": "code",
   "outputs": [],
   "source": [
    "def load_data_from_csv(file_path):\n",
    "    \"\"\"Load data from csv file and split/reformat list data\"\"\"\n",
    "    data = {}\n",
    "    try:\n",
    "        with open(file_path, newline='') as csvfile:\n",
    "            reader = csv.reader(csvfile)\n",
    "            next(reader, None)  # Skip header row\n",
    "            for row in reader:\n",
    "                pitcher_id = str(row[0])\n",
    "                # split list into the original values\n",
    "                curve_control_values = row[1].split('+')\n",
    "                if pitcher_id not in data:\n",
    "                    data[pitcher_id] = []\n",
    "                data[pitcher_id].append(curve_control_values)\n",
    "    except FileNotFoundError:\n",
    "        print(\"File not found. Please make sure the file path is correct.\")\n",
    "    return data"
   ],
   "metadata": {
    "collapsed": false,
    "ExecuteTime": {
     "end_time": "2024-02-08T02:04:08.081450500Z",
     "start_time": "2024-02-08T02:04:08.077597700Z"
    }
   },
   "id": "8a1dbf5f7b14ac86",
   "execution_count": 5
  },
  {
   "cell_type": "code",
   "outputs": [],
   "source": [
    "def choose_random_pitch(data, pitcher_id):\n",
    "    \"\"\"Choose a random pitch from file matching pitcher id.\"\"\"\n",
    "    if str(pitcher_id) in data:\n",
    "        return random.choice(data[str(pitcher_id)])\n",
    "    else:\n",
    "        print(f\"No data found for pitcher ID {pitcher_id}.\")\n",
    "        return None"
   ],
   "metadata": {
    "collapsed": false,
    "ExecuteTime": {
     "end_time": "2024-02-08T02:04:08.813827400Z",
     "start_time": "2024-02-08T02:04:08.808308700Z"
    }
   },
   "id": "47ad9479715ebe3d",
   "execution_count": 6
  },
  {
   "cell_type": "code",
   "outputs": [
    {
     "ename": "KeyboardInterrupt",
     "evalue": "",
     "output_type": "error",
     "traceback": [
      "\u001B[1;31m---------------------------------------------------------------------------\u001B[0m",
      "\u001B[1;31mKeyboardInterrupt\u001B[0m                         Traceback (most recent call last)",
      "Cell \u001B[1;32mIn[7], line 15\u001B[0m\n\u001B[0;32m     12\u001B[0m start_time \u001B[38;5;241m=\u001B[39m time\u001B[38;5;241m.\u001B[39mtime()\n\u001B[0;32m     14\u001B[0m \u001B[38;5;66;03m# counts down from pitch duration to 0. Is 0 when waiting\u001B[39;00m\n\u001B[1;32m---> 15\u001B[0m active_pitch_frame \u001B[38;5;241m=\u001B[39m \u001B[43mme\u001B[49m\u001B[38;5;241;43m.\u001B[39;49m\u001B[43mread_half_word\u001B[49m\u001B[43m(\u001B[49m\u001B[43mcurrent_frame_of_pitch\u001B[49m\u001B[43m)\u001B[49m\n\u001B[0;32m     17\u001B[0m \u001B[38;5;66;03m# -1 when not pitching. When pitch is initiated, displays total frame count of the pitch\u001B[39;00m\n\u001B[0;32m     18\u001B[0m pitch_duration \u001B[38;5;241m=\u001B[39m me\u001B[38;5;241m.\u001B[39mread_half_word(total_pitch_frames)\n",
      "File \u001B[1;32m~\\PycharmProjects\\rio_projects\\rio\\dme\\memory_engine.py:55\u001B[0m, in \u001B[0;36mread_half_word\u001B[1;34m(addr)\u001B[0m\n\u001B[0;32m     54\u001B[0m \u001B[38;5;28;01mdef\u001B[39;00m \u001B[38;5;21mread_half_word\u001B[39m(addr) \u001B[38;5;241m-\u001B[39m\u001B[38;5;241m>\u001B[39m \u001B[38;5;28mint\u001B[39m:\n\u001B[1;32m---> 55\u001B[0m     \u001B[43mhook\u001B[49m\u001B[43m(\u001B[49m\u001B[43m)\u001B[49m\n\u001B[0;32m     56\u001B[0m     \u001B[38;5;28;01mreturn\u001B[39;00m read_word(addr) \u001B[38;5;241m>>\u001B[39m \u001B[38;5;241m16\u001B[39m\n",
      "File \u001B[1;32m~\\PycharmProjects\\rio_projects\\rio\\dme\\memory_engine.py:110\u001B[0m, in \u001B[0;36mhook\u001B[1;34m()\u001B[0m\n\u001B[0;32m    109\u001B[0m \u001B[38;5;28;01mdef\u001B[39;00m \u001B[38;5;21mhook\u001B[39m():\n\u001B[1;32m--> 110\u001B[0m     \u001B[38;5;28;01mwhile\u001B[39;00m \u001B[38;5;129;01mnot\u001B[39;00m \u001B[43mis_hooked\u001B[49m\u001B[43m(\u001B[49m\u001B[43m)\u001B[49m:\n\u001B[0;32m    111\u001B[0m         dme\u001B[38;5;241m.\u001B[39mhook()\n",
      "File \u001B[1;32m~\\PycharmProjects\\rio_projects\\rio\\dme\\memory_engine.py:105\u001B[0m, in \u001B[0;36mis_hooked\u001B[1;34m()\u001B[0m\n\u001B[0;32m    101\u001B[0m     v \u001B[38;5;241m=\u001B[39m [[floats[a \u001B[38;5;241m*\u001B[39m columns \u001B[38;5;241m+\u001B[39m b] \u001B[38;5;28;01mfor\u001B[39;00m b \u001B[38;5;129;01min\u001B[39;00m \u001B[38;5;28mrange\u001B[39m(columns)] \u001B[38;5;28;01mfor\u001B[39;00m a \u001B[38;5;129;01min\u001B[39;00m \u001B[38;5;28mrange\u001B[39m(rows)]\n\u001B[0;32m    102\u001B[0m     \u001B[38;5;28;01mreturn\u001B[39;00m mat(v)\n\u001B[1;32m--> 105\u001B[0m \u001B[38;5;28;01mdef\u001B[39;00m \u001B[38;5;21mis_hooked\u001B[39m():\n\u001B[0;32m    106\u001B[0m     \u001B[38;5;28;01mreturn\u001B[39;00m dme\u001B[38;5;241m.\u001B[39mis_hooked()\n\u001B[0;32m    109\u001B[0m \u001B[38;5;28;01mdef\u001B[39;00m \u001B[38;5;21mhook\u001B[39m():\n",
      "\u001B[1;31mKeyboardInterrupt\u001B[0m: "
     ]
    }
   ],
   "source": [
    "frame_rate = 60\n",
    "file_path = 'pitch_data.csv'\n",
    "\n",
    "# load file outside of loop to reduce number of file operations\n",
    "data = load_data_from_csv(file_path)\n",
    "\n",
    "# Initialize variables\n",
    "input_list = []\n",
    "pitch_state = \"waiting\"  # waiting/active/ended\n",
    "\n",
    "while True:\n",
    "    start_time = time.time()\n",
    "    \n",
    "    # counts down from pitch duration to 0. Is 0 when waiting\n",
    "    active_pitch_frame = me.read_half_word(current_frame_of_pitch)\n",
    "    \n",
    "    # -1 when not pitching. When pitch is initiated, displays total frame count of the pitch\n",
    "    pitch_duration = me.read_half_word(total_pitch_frames)\n",
    "    curve_control = me.read_float(curve_input)\n",
    "    pitcher_char_id = me.read_half_word(pitcher_char_id)\n",
    "    pitch_type = me.read_byte(type_of_pitch)\n",
    "    state = me.read_byte(pitch_state_indicator)\n",
    "    mound_pos = me.read_float(pitcher_mound_pos_x)\n",
    "    \n",
    "    # need to handle when the ball is actually hit - what to do about the unfilled frames etc\n",
    "    \n",
    "    # Detect the start of a pitch\n",
    "    if pitch_duration != -1 and pitch_state == \"waiting\" and pitch_duration == active_pitch_frame:\n",
    "        pitch_state = \"active\"\n",
    "        # used to track the index of the pitch input from the file\n",
    "        pitch_index = 0\n",
    "        \n",
    "        # select random pitch to force\n",
    "        random_pitch = choose_random_pitch(data, pitcher_char_id)\n",
    "\n",
    "        input_list = []  # Reset the list for the new pitch\n",
    "        \n",
    "    # If a pitch is active, either append curve control values to list or write values\n",
    "    if pitch_state == \"active\":\n",
    "        # todo: better way to swap between reading and writing\n",
    "        if random_pitch is not None:\n",
    "            me.write_float(curve_input, float(random_pitch[pitch_index]))\n",
    "        input_list.append(curve_control)\n",
    "        pitch_index += 1\n",
    "        # if 0 pitch is over\n",
    "        if active_pitch_frame == 0:\n",
    "            pitch_state = \"ended\"\n",
    "    \n",
    "    # Handle the end of a pitch\n",
    "    if pitch_state == \"ended\":\n",
    "        print(f\"Pitch complete ({len(input_list)}f) curve control values:\", input_list)\n",
    "        # save input_list to a file here\n",
    "        append_data_to_csv(file_path, pitcher_char_id, input_list)\n",
    "        \n",
    "\n",
    "        \n",
    "        pitch_state = \"waiting\"  # Reset state to wait for the next pitch\n",
    "        input_list = []  # Prepare for the next pitch\n",
    "    \n",
    "    # Handle pitch_duration reset to -1, indicating no active pitch. State == 4 is pitch has ended\n",
    "    if pitch_duration == -1 and pitch_state != \"waiting\" and state == 4:\n",
    "        pitch_state = \"waiting\"\n",
    "    \n",
    "    # Frame rate control to avoid overloading the CPU / we only need 60 fps anyway\n",
    "    frame_time = time.time() - start_time\n",
    "    delay = max(1 / frame_rate - frame_time, 0)\n",
    "    time.sleep(delay)"
   ],
   "metadata": {
    "collapsed": false,
    "ExecuteTime": {
     "end_time": "2024-02-08T02:04:28.079812300Z",
     "start_time": "2024-02-08T02:04:09.361336Z"
    }
   },
   "id": "8aabd8415c9d5c67",
   "execution_count": 7
  },
  {
   "cell_type": "code",
   "outputs": [],
   "source": [],
   "metadata": {
    "collapsed": false,
    "ExecuteTime": {
     "end_time": "2024-02-07T06:36:31.118357300Z",
     "start_time": "2024-02-07T06:36:31.105357100Z"
    }
   },
   "id": "cd0b390cab5ea7a7",
   "execution_count": 2
  },
  {
   "cell_type": "markdown",
   "source": [],
   "metadata": {
    "collapsed": false
   },
   "id": "36c9a4c70c875c9c"
  },
  {
   "cell_type": "code",
   "outputs": [],
   "source": [],
   "metadata": {
    "collapsed": false,
    "ExecuteTime": {
     "end_time": "2024-02-07T06:36:31.833794800Z",
     "start_time": "2024-02-07T06:36:31.830795700Z"
    }
   },
   "id": "b17b358e8cf4a267",
   "execution_count": 3
  },
  {
   "cell_type": "code",
   "outputs": [],
   "source": [
    "\n",
    "\n",
    "\n"
   ],
   "metadata": {
    "collapsed": false,
    "ExecuteTime": {
     "end_time": "2024-02-08T01:17:42.214275500Z",
     "start_time": "2024-02-08T01:17:42.208277200Z"
    }
   },
   "id": "d01996e5637ad84c",
   "execution_count": null
  },
  {
   "cell_type": "code",
   "outputs": [],
   "source": [],
   "metadata": {
    "collapsed": false
   },
   "id": "2b71ed5e0cdd1887"
  }
 ],
 "metadata": {
  "kernelspec": {
   "display_name": "Python 3",
   "language": "python",
   "name": "python3"
  },
  "language_info": {
   "codemirror_mode": {
    "name": "ipython",
    "version": 2
   },
   "file_extension": ".py",
   "mimetype": "text/x-python",
   "name": "python",
   "nbconvert_exporter": "python",
   "pygments_lexer": "ipython2",
   "version": "2.7.6"
  }
 },
 "nbformat": 4,
 "nbformat_minor": 5
}
